{
 "cells": [
  {
   "cell_type": "markdown",
   "id": "424cc306",
   "metadata": {},
   "source": [
    "# Data Science Tools and Ecosystem"
   ]
  },
  {
   "cell_type": "markdown",
   "id": "39aabbe2",
   "metadata": {},
   "source": [
    "In this notebook, Data Science Tools and Ecosystem are summarized."
   ]
  },
  {
   "cell_type": "markdown",
   "id": "a80938d9",
   "metadata": {},
   "source": [
    "***Objectives:***"
   ]
  },
  {
   "cell_type": "markdown",
   "id": "acae48fd",
   "metadata": {},
   "source": [
    "- List popular languages for Data Science\n",
    "- List popular libraries for Data Science\n",
    "- List some examples of code cells"
   ]
  },
  {
   "cell_type": "markdown",
   "id": "2bad919c",
   "metadata": {},
   "source": [
    "Some of the popular languages that Data Scientists use are:"
   ]
  },
  {
   "cell_type": "markdown",
   "id": "70a09b85",
   "metadata": {},
   "source": [
    "1. Python\n",
    "2. R\n",
    "3. SQL"
   ]
  },
  {
   "cell_type": "markdown",
   "id": "6c99b230",
   "metadata": {},
   "source": [
    "Some of the commonly used libraries used by Data Scientists include:"
   ]
  },
  {
   "cell_type": "markdown",
   "id": "6346bff5",
   "metadata": {},
   "source": [
    "1. Numpy\n",
    "2. Pandas\n",
    "3. Scikit-learn"
   ]
  },
  {
   "cell_type": "markdown",
   "id": "b24660e2",
   "metadata": {},
   "source": [
    "|Data Science Tools |\n",
    "| --- |\n",
    "| Jupyter Labs |\n",
    "| Jupyter Notebooks |\n",
    "| R - Studio |\n"
   ]
  },
  {
   "cell_type": "markdown",
   "id": "5226385a",
   "metadata": {},
   "source": [
    "### Below are a few examples of evaluating arithmetic expressions in Python"
   ]
  },
  {
   "cell_type": "code",
   "execution_count": 1,
   "id": "11bebf4c",
   "metadata": {},
   "outputs": [
    {
     "data": {
      "text/plain": [
       "17"
      ]
     },
     "execution_count": 1,
     "metadata": {},
     "output_type": "execute_result"
    }
   ],
   "source": [
    "# This a simple arithmetic expression to mutiply then add integers\n",
    "(3*4)+5"
   ]
  },
  {
   "cell_type": "code",
   "execution_count": 6,
   "id": "e678b84d",
   "metadata": {
    "scrolled": true
   },
   "outputs": [
    {
     "name": "stdout",
     "output_type": "stream",
     "text": [
      "200 minutes are equivalent to 3.3333333333333335 hours\n"
     ]
    }
   ],
   "source": [
    "# This will convert 200 minutes to hours by diving by 60\n",
    "hours = str(200.0 / 60)\n",
    "print(\"200 minutes are equivalent to {} hours\".format(hours) )"
   ]
  },
  {
   "cell_type": "markdown",
   "id": "309ebeb3",
   "metadata": {},
   "source": [
    "## Author\n",
    "Javier Cañon U."
   ]
  },
  {
   "cell_type": "code",
   "execution_count": null,
   "id": "64f10dd3",
   "metadata": {},
   "outputs": [],
   "source": []
  }
 ],
 "metadata": {
  "kernelspec": {
   "display_name": "Python 3 (ipykernel)",
   "language": "python",
   "name": "python3"
  },
  "language_info": {
   "codemirror_mode": {
    "name": "ipython",
    "version": 3
   },
   "file_extension": ".py",
   "mimetype": "text/x-python",
   "name": "python",
   "nbconvert_exporter": "python",
   "pygments_lexer": "ipython3",
   "version": "3.11.5"
  }
 },
 "nbformat": 4,
 "nbformat_minor": 5
}
